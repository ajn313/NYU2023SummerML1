{
 "cells": [
  {
   "cell_type": "code",
   "execution_count": 1,
   "metadata": {
    "id": "NTwNZcxOOU6W"
   },
   "outputs": [],
   "source": [
    "from pathlib import Path\n",
    "\n",
    "import cv2\n",
    "import matplotlib.pyplot as plt\n",
    "import numpy as np\n",
    "import scipy.io as sio\n",
    "import tensorflow as tf\n",
    "from tensorflow.keras import layers, models\n"
   ]
  },
  {
   "cell_type": "markdown",
   "source": [
    "## Preprocess data"
   ],
   "metadata": {
    "collapsed": false
   }
  },
  {
   "cell_type": "markdown",
   "source": [
    "Download the full dataset from [here](https://www.kaggle.com/datasets/hassiahk/stanford-cars-dataset-full) and place it in the same directory as this file."
   ],
   "metadata": {
    "collapsed": false
   }
  },
  {
   "cell_type": "code",
   "execution_count": 3,
   "outputs": [
    {
     "name": "stdout",
     "output_type": "stream",
     "text": [
      "mkdir: data/: File exists\r\n",
      "mkdir: data/images/: File exists\r\n",
      "unzip:  cannot find or open archive.zip, archive.zip.zip or archive.zip.ZIP.\r\n",
      "mv: rename images/ to data/car_ims/images/: No such file or directory\r\n"
     ]
    }
   ],
   "source": [
    "# Setup directories\n",
    "\n",
    "!mkdir data/\n",
    "!mkdir data/images/\n",
    "!unzip archive.zip  # change the directory/filename of the zip if needed\n",
    "!mv images/ data/car_ims/\n"
   ],
   "metadata": {
    "collapsed": false,
    "ExecuteTime": {
     "end_time": "2023-06-30T16:44:51.901236Z",
     "start_time": "2023-06-30T16:44:51.420618Z"
    }
   }
  },
  {
   "cell_type": "markdown",
   "source": [
    "If you are on Colab, download `cars_annos.mat` from [here](https://www.kaggle.com/datasets/jessicali9530/stanford-cars-dataset) and upload it to `data/`"
   ],
   "metadata": {
    "collapsed": false
   }
  },
  {
   "cell_type": "code",
   "execution_count": 2,
   "metadata": {
    "id": "QC3espG8Ddmx"
   },
   "outputs": [],
   "source": [
    "# Load annotations\n",
    "\n",
    "data_path = Path() / 'data'\n",
    "margin = 16\n",
    "im_path = data_path / 'images'\n",
    "im_path.mkdir(exist_ok=True)\n",
    "\n",
    "mat = sio.loadmat(data_path / 'cars_annos.mat')\n",
    "\n",
    "\n",
    "# Class names\n",
    "class_names = [\n",
    "    name[0].replace('/', '_')\n",
    "    for name in mat['class_names'][0]\n",
    "]\n",
    "num_classes = len(class_names)\n",
    "print(f\"{num_classes} class names loaded\")  # There should be 196 class names\n"
   ]
  },
  {
   "cell_type": "code",
   "execution_count": null,
   "outputs": [],
   "source": [
    "# This processes image files and places them in a separate directory\n",
    "# You only have to run it once for each runtime\n",
    "\n",
    "image_count = 0\n",
    "for [fp], [[x1]], [[y1]], [[x2]], [[y2]], [[class_id]], _ in mat['annotations'][0]:\n",
    "    fp = Path(fp)\n",
    "    src_img = cv2.imread(str(data_path / fp))\n",
    "    h, w = src_img.shape[:2]\n",
    "    class_name = class_names[class_id - 1]\n",
    "    # Crop image\n",
    "    x1 = max(0, x1 - margin)\n",
    "    y1 = max(0, y1 - margin)\n",
    "    x2 = min(x2 + margin, w)\n",
    "    y2 = min(y2 + margin, h)\n",
    "    dst_img = src_img[y1:y2, x1:x2]\n",
    "    # Save image\n",
    "    image_dir = im_path / class_name\n",
    "    image_dir.mkdir(exist_ok=True)\n",
    "    cv2.imwrite(str(image_dir / fp.name), dst_img)\n",
    "    image_count += 1\n",
    "    if image_count % 1000 == 0:\n",
    "        print(f\"progress: {image_count}\")\n",
    "\n",
    "print(f\"Total {image_count} images loaded\")  # There should be 16186 images\n"
   ],
   "metadata": {
    "collapsed": false
   }
  },
  {
   "cell_type": "markdown",
   "source": [
    "## Load data"
   ],
   "metadata": {
    "collapsed": false
   }
  },
  {
   "cell_type": "code",
   "execution_count": null,
   "outputs": [],
   "source": [
    "# Create datasets\n",
    "# Change the parameters as you wish\n",
    "\n",
    "train_ds, val_ds = tf.keras.utils.image_dataset_from_directory(\n",
    "    str(im_path),\n",
    "    validation_split=0.1,\n",
    "    image_size=(256, 256),\n",
    "    batch_size=64,\n",
    "    label_mode='categorical',\n",
    "    subset='both',\n",
    "    seed=42,\n",
    ")\n",
    "batch = next(train_ds.as_numpy_iterator())\n",
    "input_shape = batch[0][0].shape\n",
    "\n",
    "# `train_ds` and `val_ds` contain both X and Y values\n",
    "print(train_ds, val_ds)\n",
    "print(f\"Input shape: {input_shape}\")\n"
   ],
   "metadata": {
    "collapsed": false
   }
  },
  {
   "cell_type": "code",
   "execution_count": null,
   "outputs": [],
   "source": [
    "# Visualize the dataset\n",
    "\n",
    "plt.figure(figsize=(16, 16))\n",
    "for i in range(16):\n",
    "    plt.subplot(4, 4, i + 1)\n",
    "    plt.imshow(batch[0][i].astype(int))\n",
    "    plt.xticks([])\n",
    "    plt.yticks([])\n"
   ],
   "metadata": {
    "collapsed": false
   }
  },
  {
   "cell_type": "markdown",
   "source": [
    "## Build model"
   ],
   "metadata": {
    "collapsed": false
   }
  },
  {
   "cell_type": "code",
   "execution_count": 11,
   "metadata": {
    "id": "H8mAz2MuOU6k"
   },
   "outputs": [],
   "source": [
    "# Build your model. Good luck!\n",
    "# TODO\n"
   ]
  }
 ],
 "metadata": {
  "accelerator": "GPU",
  "colab": {
   "collapsed_sections": [],
   "name": "car_keras.ipynb",
   "provenance": []
  },
  "kernelspec": {
   "display_name": "Python 3",
   "language": "python",
   "name": "python3"
  },
  "language_info": {
   "codemirror_mode": {
    "name": "ipython",
    "version": 3
   },
   "file_extension": ".py",
   "mimetype": "text/x-python",
   "name": "python",
   "nbconvert_exporter": "python",
   "pygments_lexer": "ipython3",
   "version": "3.7.0"
  },
  "latex_envs": {
   "LaTeX_envs_menu_present": true,
   "autoclose": true,
   "autocomplete": true,
   "bibliofile": "biblio.bib",
   "cite_by": "apalike",
   "current_citInitial": 1,
   "eqLabelWithNumbers": true,
   "eqNumInitial": 1,
   "hotkeys": {
    "equation": "Ctrl-E",
    "itemize": "Ctrl-I"
   },
   "labels_anchors": false,
   "latex_user_defs": false,
   "report_style_numbering": false,
   "user_envs_cfg": false
  }
 },
 "nbformat": 4,
 "nbformat_minor": 0
}
